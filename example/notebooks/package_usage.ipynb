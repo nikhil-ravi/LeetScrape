{
 "cells": [
  {
   "attachments": {},
   "cell_type": "markdown",
   "metadata": {},
   "source": [
    "Scrape Questions and metadata\n"
   ]
  },
  {
   "cell_type": "code",
   "execution_count": 1,
   "metadata": {},
   "outputs": [],
   "source": [
    "from leetscrape import GetQuestionsList, GetQuestion\n",
    "from leetscrape.utils import (\n",
    "    combine_list_and_info,\n",
    ")\n",
    "import pandas as pd\n",
    "import pickle"
   ]
  },
  {
   "attachments": {},
   "cell_type": "markdown",
   "metadata": {},
   "source": [
    "Query the question list\n"
   ]
  },
  {
   "cell_type": "code",
   "execution_count": 2,
   "metadata": {},
   "outputs": [
    {
     "name": "stdout",
     "output_type": "stream",
     "text": [
      "Scraping companies ... Done\n",
      "Scraping questions list ... Done\n",
      "Extracting question topics ... Done\n",
      "Getting Categories ... Done\n",
      "Scraping Topic Tags ... Done\n",
      "Extracting question category ... Done\n"
     ]
    }
   ],
   "source": [
    "ls = GetQuestionsList()\n",
    "ls.scrape()  # Scrape the list of questions\n",
    "ls.to_csv(directory_path=\"../data_test/\")  # Save the scraped tables to a directory\n"
   ]
  },
  {
   "attachments": {},
   "cell_type": "markdown",
   "metadata": {},
   "source": [
    "Query Individual question info such as the body, test cases, constraints, hints, code stubs, etc.\n"
   ]
  },
  {
   "cell_type": "code",
   "execution_count": 3,
   "metadata": {},
   "outputs": [
    {
     "name": "stderr",
     "output_type": "stream",
     "text": [
      "/home/nr337/code/LeetScrape/src/leetscrape/GetQuestionInfo.py:157: UserWarning: This questions is only for paid Leetcode subscribers.\n",
      "  warnings.warn(\"This questions is only for paid Leetcode subscribers.\")\n",
      "/home/nr337/code/LeetScrape/src/leetscrape/GetQuestionInfo.py:122: UserWarning: This questions is only for paid Leetcode subscribers.\n",
      "  warnings.warn(\"This questions is only for paid Leetcode subscribers.\")\n"
     ]
    },
    {
     "data": {
      "text/plain": [
       "487. max-consecutive-ones-ii\n",
       "This questions is only for paid Leetcode subscribers.\n",
       "SimilarQuestions: [485, 1004, 2155]"
      ]
     },
     "execution_count": 3,
     "metadata": {},
     "output_type": "execute_result"
    }
   ],
   "source": [
    "qi = GetQuestion(titleSlug=\"max-consecutive-ones-ii\")\n",
    "qi.scrape()"
   ]
  },
  {
   "cell_type": "code",
   "execution_count": 6,
   "metadata": {},
   "outputs": [],
   "source": [
    "# # This table can be generated using the previous commnd using\n",
    "# # questions_info = ls.questions\n",
    "# questions_info = pd.read_csv(\"../data/questions.csv\")\n",
    "\n",
    "# # Scrape question body\n",
    "# questions_body_list = get_all_questions_body(\n",
    "#     questions_info[\"titleSlug\"].tolist(),\n",
    "#     questions_info[\"paidOnly\"].tolist(),\n",
    "#     save_to=\"../data/questionBody.pickle\",\n",
    "# )\n",
    "\n",
    "# # Save to a pandas dataframe\n",
    "# questions_body = pd.DataFrame(\n",
    "#     questions_body_list\n",
    "# ).drop(columns=[\"titleSlug\"])\n",
    "# questions_body[\"QID\"] = questions_body[\"QID\"].astype(int)\n",
    "\n",
    "\n",
    "\"\"\" Run the above code stub once and save the data as a pickle file. Using this data\n",
    "from now on since the above code stub is time consuming. \"\"\"\n",
    "questions = pd.read_csv(\"../data/questions.csv\")\n",
    "with open(\"../data/questionBody.pickle\", \"rb\") as f:\n",
    "    data = pickle.load(f)\n",
    "questions_body = pd.DataFrame(data).drop(columns=[\"titleSlug\"])\n",
    "questions_body[\"QID\"] = questions_body[\"QID\"].astype(int)\n"
   ]
  },
  {
   "attachments": {},
   "cell_type": "markdown",
   "metadata": {},
   "source": [
    "Create a new dataframe with all the questions with their metadata and body information.\n"
   ]
  },
  {
   "cell_type": "code",
   "execution_count": 7,
   "metadata": {},
   "outputs": [],
   "source": [
    "questions = combine_list_and_info(\n",
    "    info_df=questions_body, list_df=questions, save_to=\"../data/all.json\"\n",
    ")\n"
   ]
  },
  {
   "attachments": {},
   "cell_type": "markdown",
   "metadata": {},
   "source": [
    "Generate questions and test cases"
   ]
  },
  {
   "cell_type": "code",
   "execution_count": 1,
   "metadata": {},
   "outputs": [
    {
     "name": "stdout",
     "output_type": "stream",
     "text": [
      "Generating code stub for 487. max-consecutive-ones-ii\n"
     ]
    },
    {
     "name": "stderr",
     "output_type": "stream",
     "text": [
      "D:\\code\\python\\LeetScrape\\src\\leetscrape\\question.py:106: UserWarning: This questions is only for paid Leetcode subscribers.\n",
      "  warnings.warn(\"This questions is only for paid Leetcode subscribers.\")\n",
      "D:\\code\\python\\LeetScrape\\src\\leetscrape\\question.py:143: UserWarning: This questions is only for paid Leetcode subscribers.\n",
      "  warnings.warn(\"This questions is only for paid Leetcode subscribers.\")\n"
     ]
    },
    {
     "name": "stdout",
     "output_type": "stream",
     "text": [
      "Code stub save to q_0487_maxConsecutiveOnesIi.py\n"
     ]
    }
   ],
   "source": [
    "from leetscrape import GenerateCodeStub\n",
    "\n",
    "fcs = GenerateCodeStub(qid=487)\n",
    "fcs.generate()"
   ]
  },
  {
   "attachments": {},
   "cell_type": "markdown",
   "metadata": {},
   "source": [
    "Extract solutions from py file and upload them to the database"
   ]
  },
  {
   "cell_type": "code",
   "execution_count": 3,
   "metadata": {},
   "outputs": [],
   "source": [
    "from leetscrape import ExtractSolutions"
   ]
  },
  {
   "cell_type": "code",
   "execution_count": 4,
   "metadata": {},
   "outputs": [],
   "source": [
    "es = ExtractSolutions(\"../solutions/q_0009_palindromeNumber.py\")\n",
    "sols = es.extract()"
   ]
  },
  {
   "cell_type": "code",
   "execution_count": null,
   "metadata": {},
   "outputs": [],
   "source": []
  }
 ],
 "metadata": {
  "kernelspec": {
   "display_name": ".venv",
   "language": "python",
   "name": "python3"
  },
  "language_info": {
   "codemirror_mode": {
    "name": "ipython",
    "version": 3
   },
   "file_extension": ".py",
   "mimetype": "text/x-python",
   "name": "python",
   "nbconvert_exporter": "python",
   "pygments_lexer": "ipython3",
   "version": "3.10.13"
  },
  "orig_nbformat": 4,
  "vscode": {
   "interpreter": {
    "hash": "b3f3b27324d3dffefcfe684ee5f63d23987742678b59d2ebc9e4a131ef9fcba7"
   }
  }
 },
 "nbformat": 4,
 "nbformat_minor": 2
}
